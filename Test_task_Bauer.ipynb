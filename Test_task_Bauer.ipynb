{
  "nbformat": 4,
  "nbformat_minor": 0,
  "metadata": {
    "colab": {
      "provenance": [],
      "collapsed_sections": [
        "HpM6H6mCKpdA",
        "6R_ssI69MZE1"
      ]
    },
    "kernelspec": {
      "name": "python3",
      "display_name": "Python 3"
    },
    "language_info": {
      "name": "python"
    }
  },
  "cells": [
    {
      "cell_type": "markdown",
      "source": [
        "# Вопросы ⁉"
      ],
      "metadata": {
        "id": "HpM6H6mCKpdA"
      }
    },
    {
      "cell_type": "markdown",
      "source": [
        "**1) Как хорошо Вы владеете Python? Оцените свой уровень по шкале от 0 до 10, где 0 - совсем не знаю, 10 - владею в совершенстве.**\n",
        "\n",
        "Считаю, что мой уровень владения Python в районе 8. Изучаю Python уже более года, прошел несколько курсов от начинающего до углубленного уровня. Также имеются уверенные знания по обработке данных с помощью pandas. Изучал также машинное обучение и глубокое обучение с применением PyTorch, numpy, sklearn. Также имеются проекты по анализу данных с применением визуализаии matplotlib, seborn.**Текст, выделенный полужирным шрифтом**\n",
        "\n",
        "**2) Насколько хорошо Вы знакомы с Google Sheets? Оцените свой уровень по шкале от 0 до 10, где 0 - совсем не знаю, 10 - владею в совершенстве Объясните, почему Вы выбрали такой балл.**\n",
        "\n",
        "Считаю, что мой уровень 7.\n",
        "Постоянно взаимодействую в рамках обучения в университете, также применял для анализа данных и написания формул. Знаком с Vlookup, сводными таблицами."
      ],
      "metadata": {
        "id": "x_pPT89bJ5dm"
      }
    },
    {
      "cell_type": "markdown",
      "source": [
        "# Задачи на логику 🤔"
      ],
      "metadata": {
        "id": "6R_ssI69MZE1"
      }
    },
    {
      "cell_type": "markdown",
      "source": [
        "**1) Рекламная кампания стартовала вчера с дневным бюджетом 40 $. Половина\n",
        "бюджета была израсходована к полудню, а 80% оставшегося бюджета было\n",
        "потрачено между полуднем и временем закрытия. Сколько долларов не было\n",
        "потрачено?**\n",
        "\n",
        "Решение:\n",
        "40 * 0.5 * (1-0,8) = 4\n",
        "\n",
        "Ответ: 4$"
      ],
      "metadata": {
        "id": "PHcn7lTMNS_a"
      }
    },
    {
      "cell_type": "markdown",
      "source": [
        "**2) 5 идентичных рекламных кампаний работали 24 дня по 6 часов в день,\n",
        "потрачено было 120 долларов. Сколько дней они работали бы на 216 долларов,\n",
        "если бы 9 одинаковых кампаний работали бы по 8 часов в день?**\n",
        "\n",
        "Решение:\n",
        "Рассчитаем стоимость одного часа работы одной кампании:\n",
        "\n",
        "cost_сomp = 120 / (5 * 24 * 6) = 1/6 $\n",
        "\n",
        "Рассчитаем сколько дней будут работать 9 кампаний:\n",
        "\n",
        "t_group_comp = 216 / ((1/6) * 9 * 8) = 18 дней\n",
        "\n",
        "Ответ: 18 дней"
      ],
      "metadata": {
        "id": "Z0VZK9z6NUgx"
      }
    },
    {
      "cell_type": "markdown",
      "source": [
        "**3) Дизайнеры создали 200 рекламных баннеров для двух рекламных кампаний. 80\n",
        "из них не использовались ни в кампании №1, ни в кампании №2, 60\n",
        "использовались только в кампании №1. И для каждого рекламного баннера,\n",
        "который использовался в обеих кампаниях, приходится 3 баннера, которые\n",
        "использовались только в кампании №2. Сколько баннеров было использовано в\n",
        "обеих рекламных кампаниях?**\n",
        "\n",
        "Решение:\n",
        "\n",
        "Найдем сколько банеров использовались только в обеих кампаниях и во второй кампании:\n",
        "\n",
        "t_rem = 200 - 80 - 60 = 60 баннеров\n",
        "\n",
        "Расчитаем сколько банеров использовано было в обеих рекламных компаниях, обозначив их как union_ban:\n",
        "\n",
        "union_ban + 3 * union_ban = 60\n",
        "\n",
        "union_ban = 60 / 4 = 15 баннеров\n",
        "\n",
        "Ответ: 15 баннеров"
      ],
      "metadata": {
        "id": "Udd6iDJOP_8y"
      }
    },
    {
      "cell_type": "markdown",
      "source": [
        "**4) Энн использует Instagram, но не Facebook, а Джон использует Youtube и\n",
        "Facebook. Кейт использует Youtube, но не Instagram, а Том использует Facebook,\n",
        "но не Youtube. Если каждый человек использует две из трех социальных сетей,\n",
        "у кого предпочтения совпадают?**\n",
        "\n",
        "Решение:\n",
        "\n",
        "На основе условия задачи получим таблицу вида:\n",
        "\n",
        "| Название сервиса  | Энн| Джон| Кейт| Том|\n",
        "| ------------- | ------------- | ------------- | ------------- |------------- |\n",
        "| Instagram  | +  |-  |-  |+  |\n",
        "| Facebook  | -  |+  |+  |+  |\n",
        "| Youtube | +  |+  |+  |-  |\n",
        "\n",
        "Ответ: Как можно видеть из таблицы, то у Джона и у Кейт предпочтения совпадают"
      ],
      "metadata": {
        "id": "3HVgWK-SQJTA"
      }
    },
    {
      "cell_type": "markdown",
      "source": [
        "**5) Средний итоговый балл стажера по 4 модулям составляет 78 баллов. Сколько\n",
        "баллов должен получить стажер за 5-й модуль, чтобы средний балл по всему\n",
        "заданию составил 80?**\n",
        "\n",
        "Решение:\n",
        "\n",
        "Найдем сколько у стажера суммарный балл искомо:\n",
        "\n",
        "initial_score = 78 * 4 = 312 баллов\n",
        "\n",
        "Найдем сколько баллов должен получить стажер, чтобы средний был 80:\n",
        "\n",
        "(added_score + initial_score) / 5 = 80\n",
        "\n",
        "added_score = 80 * 5 - initial_score = 400 - 312 = 88 баллов\n",
        "\n",
        "Ответ: 88 баллов"
      ],
      "metadata": {
        "id": "MQyq4ojKQNZ1"
      }
    },
    {
      "cell_type": "markdown",
      "source": [
        "**6) Заказанные в приложении товары доставляются на автомобиле. Автомобиль\n",
        "проезжает 260 км со средней скоростью 80 км / ч. На обратном пути машина\n",
        "движется со средней скоростью 100 км / ч. Насколько быстрее был обратный\n",
        "путь? Ответ указать в минутах.**\n",
        "\n",
        "Решение:\n",
        "\n",
        "Рассчитаем сколько времени было потрачено на доставку:\n",
        "\n",
        "t_1 = 260 / 80 = 3.25 ч. = 195 мин\n",
        "\n",
        "Рассчитаем сколько времени будет потрачено на обратный путь:\n",
        "\n",
        "t_2 = 260 / 100 = 2.6 ч. = 156 мин\n",
        "\n",
        "Рассчитаем сэкономленное время на обратный путь:\n",
        "\n",
        "t_diff = t_1 - t_2 = 195 - 156 = 39 мин\n",
        "\n",
        "Ответ: 39 минут"
      ],
      "metadata": {
        "id": "XQhmvLY3SGkN"
      }
    },
    {
      "cell_type": "markdown",
      "source": [
        "# 3. Техническое задание ☣"
      ],
      "metadata": {
        "id": "pRwZpwrFddwy"
      }
    },
    {
      "cell_type": "markdown",
      "source": [
        "## Предобработка данных"
      ],
      "metadata": {
        "id": "yYTrvLWZVlAJ"
      }
    },
    {
      "cell_type": "markdown",
      "source": [
        "Для выполнения данного задания сначала подключим необходимые библиотеки и загрузим данные."
      ],
      "metadata": {
        "id": "xmb2RnFee3y_"
      }
    },
    {
      "cell_type": "code",
      "source": [
        "import pandas as pd\n",
        "from datetime import datetime\n",
        "import matplotlib.pyplot as plt\n",
        "%matplotlib inline"
      ],
      "metadata": {
        "id": "ynndI_b_Q6Wo"
      },
      "execution_count": 1,
      "outputs": []
    },
    {
      "cell_type": "code",
      "source": [
        "df = pd.read_excel('data.xlsx')"
      ],
      "metadata": {
        "id": "1tlOmAaLOhsW"
      },
      "execution_count": 2,
      "outputs": []
    },
    {
      "cell_type": "code",
      "source": [
        "df.head(20)"
      ],
      "metadata": {
        "colab": {
          "base_uri": "https://localhost:8080/",
          "height": 676
        },
        "id": "CDmXWf_xgy20",
        "outputId": "b32a1e9a-436b-405c-f12a-fd8c50e2359c"
      },
      "execution_count": 3,
      "outputs": [
        {
          "output_type": "execute_result",
          "data": {
            "text/plain": [
              "    client_id       sum      status        sale new/current  Unnamed: 5  \\\n",
              "0         NaN       NaN    Май 2021         NaN         NaN         NaN   \n",
              "1         6.0  11693.70  ВНУТРЕННИЙ           -           -         NaN   \n",
              "2        14.0   5452.70    ОПЛАЧЕНО     Петрова       новая         NaN   \n",
              "3        15.0  13991.70    ОПЛАЧЕНО      Иванов     текущая         NaN   \n",
              "4        16.0    719.70    ОПЛАЧЕНО      Иванов     текущая         NaN   \n",
              "5        18.0   4253.70    ОПЛАЧЕНО      Иванов     текущая         NaN   \n",
              "6        20.0   5796.70    ОПЛАЧЕНО   Кузнецова     текущая         NaN   \n",
              "7        21.0   3613.70    ОПЛАЧЕНО   Кузнецова     текущая         NaN   \n",
              "8        23.0   8511.70    ОПЛАЧЕНО     Андреев     текущая         NaN   \n",
              "9        24.0  16347.70    ОПЛАЧЕНО     Андреев       новая         NaN   \n",
              "10       28.0  10537.70    ОПЛАЧЕНО     Андреев     текущая         NaN   \n",
              "11       30.0   3833.70    ОПЛАЧЕНО  Филимонова     текущая         NaN   \n",
              "12       32.0   7353.90    ОПЛАЧЕНО  Филимонова     текущая         NaN   \n",
              "13       34.0   3892.52    ОПЛАЧЕНО  Филимонова     текущая         NaN   \n",
              "14       34.0   3752.63    ОПЛАЧЕНО  Филимонова     текущая         NaN   \n",
              "15       39.0  10883.70    ОПЛАЧЕНО      Иванов     текущая         NaN   \n",
              "16       40.0   6493.70    ОПЛАЧЕНО      Иванов     текущая         NaN   \n",
              "17       42.0   2721.70    ОПЛАЧЕНО     Петрова     текущая         NaN   \n",
              "18       43.0   1961.20    ОПЛАЧЕНО   Селиванов     текущая         NaN   \n",
              "19       43.0   1961.20    ОПЛАЧЕНО   Селиванов     текущая         NaN   \n",
              "\n",
              "    document       receiving_date  \n",
              "0        NaN                  NaN  \n",
              "1          -                    -  \n",
              "2   оригинал  2021-07-26 00:00:00  \n",
              "3   оригинал  2021-06-08 00:00:00  \n",
              "4   оригинал  2021-06-08 00:00:00  \n",
              "5   оригинал  2021-07-07 00:00:00  \n",
              "6   оригинал  2021-07-15 00:00:00  \n",
              "7   оригинал  2021-10-13 00:00:00  \n",
              "8   оригинал  2021-06-08 00:00:00  \n",
              "9   оригинал  2021-06-23 00:00:00  \n",
              "10  оригинал  2021-06-16 00:00:00  \n",
              "11  оригинал  2021-06-21 00:00:00  \n",
              "12  оригинал  2021-07-09 00:00:00  \n",
              "13  оригинал  2021-07-09 00:00:00  \n",
              "14  оригинал  2021-07-09 00:00:00  \n",
              "15  оригинал  2021-06-04 00:00:00  \n",
              "16  оригинал  2021-06-15 00:00:00  \n",
              "17  оригинал  2021-06-23 00:00:00  \n",
              "18  оригинал  2021-07-27 00:00:00  \n",
              "19  оригинал  2021-07-27 00:00:00  "
            ],
            "text/html": [
              "\n",
              "  <div id=\"df-6fd44cf8-751a-4928-8357-92b1f314910b\" class=\"colab-df-container\">\n",
              "    <div>\n",
              "<style scoped>\n",
              "    .dataframe tbody tr th:only-of-type {\n",
              "        vertical-align: middle;\n",
              "    }\n",
              "\n",
              "    .dataframe tbody tr th {\n",
              "        vertical-align: top;\n",
              "    }\n",
              "\n",
              "    .dataframe thead th {\n",
              "        text-align: right;\n",
              "    }\n",
              "</style>\n",
              "<table border=\"1\" class=\"dataframe\">\n",
              "  <thead>\n",
              "    <tr style=\"text-align: right;\">\n",
              "      <th></th>\n",
              "      <th>client_id</th>\n",
              "      <th>sum</th>\n",
              "      <th>status</th>\n",
              "      <th>sale</th>\n",
              "      <th>new/current</th>\n",
              "      <th>Unnamed: 5</th>\n",
              "      <th>document</th>\n",
              "      <th>receiving_date</th>\n",
              "    </tr>\n",
              "  </thead>\n",
              "  <tbody>\n",
              "    <tr>\n",
              "      <th>0</th>\n",
              "      <td>NaN</td>\n",
              "      <td>NaN</td>\n",
              "      <td>Май 2021</td>\n",
              "      <td>NaN</td>\n",
              "      <td>NaN</td>\n",
              "      <td>NaN</td>\n",
              "      <td>NaN</td>\n",
              "      <td>NaN</td>\n",
              "    </tr>\n",
              "    <tr>\n",
              "      <th>1</th>\n",
              "      <td>6.0</td>\n",
              "      <td>11693.70</td>\n",
              "      <td>ВНУТРЕННИЙ</td>\n",
              "      <td>-</td>\n",
              "      <td>-</td>\n",
              "      <td>NaN</td>\n",
              "      <td>-</td>\n",
              "      <td>-</td>\n",
              "    </tr>\n",
              "    <tr>\n",
              "      <th>2</th>\n",
              "      <td>14.0</td>\n",
              "      <td>5452.70</td>\n",
              "      <td>ОПЛАЧЕНО</td>\n",
              "      <td>Петрова</td>\n",
              "      <td>новая</td>\n",
              "      <td>NaN</td>\n",
              "      <td>оригинал</td>\n",
              "      <td>2021-07-26 00:00:00</td>\n",
              "    </tr>\n",
              "    <tr>\n",
              "      <th>3</th>\n",
              "      <td>15.0</td>\n",
              "      <td>13991.70</td>\n",
              "      <td>ОПЛАЧЕНО</td>\n",
              "      <td>Иванов</td>\n",
              "      <td>текущая</td>\n",
              "      <td>NaN</td>\n",
              "      <td>оригинал</td>\n",
              "      <td>2021-06-08 00:00:00</td>\n",
              "    </tr>\n",
              "    <tr>\n",
              "      <th>4</th>\n",
              "      <td>16.0</td>\n",
              "      <td>719.70</td>\n",
              "      <td>ОПЛАЧЕНО</td>\n",
              "      <td>Иванов</td>\n",
              "      <td>текущая</td>\n",
              "      <td>NaN</td>\n",
              "      <td>оригинал</td>\n",
              "      <td>2021-06-08 00:00:00</td>\n",
              "    </tr>\n",
              "    <tr>\n",
              "      <th>5</th>\n",
              "      <td>18.0</td>\n",
              "      <td>4253.70</td>\n",
              "      <td>ОПЛАЧЕНО</td>\n",
              "      <td>Иванов</td>\n",
              "      <td>текущая</td>\n",
              "      <td>NaN</td>\n",
              "      <td>оригинал</td>\n",
              "      <td>2021-07-07 00:00:00</td>\n",
              "    </tr>\n",
              "    <tr>\n",
              "      <th>6</th>\n",
              "      <td>20.0</td>\n",
              "      <td>5796.70</td>\n",
              "      <td>ОПЛАЧЕНО</td>\n",
              "      <td>Кузнецова</td>\n",
              "      <td>текущая</td>\n",
              "      <td>NaN</td>\n",
              "      <td>оригинал</td>\n",
              "      <td>2021-07-15 00:00:00</td>\n",
              "    </tr>\n",
              "    <tr>\n",
              "      <th>7</th>\n",
              "      <td>21.0</td>\n",
              "      <td>3613.70</td>\n",
              "      <td>ОПЛАЧЕНО</td>\n",
              "      <td>Кузнецова</td>\n",
              "      <td>текущая</td>\n",
              "      <td>NaN</td>\n",
              "      <td>оригинал</td>\n",
              "      <td>2021-10-13 00:00:00</td>\n",
              "    </tr>\n",
              "    <tr>\n",
              "      <th>8</th>\n",
              "      <td>23.0</td>\n",
              "      <td>8511.70</td>\n",
              "      <td>ОПЛАЧЕНО</td>\n",
              "      <td>Андреев</td>\n",
              "      <td>текущая</td>\n",
              "      <td>NaN</td>\n",
              "      <td>оригинал</td>\n",
              "      <td>2021-06-08 00:00:00</td>\n",
              "    </tr>\n",
              "    <tr>\n",
              "      <th>9</th>\n",
              "      <td>24.0</td>\n",
              "      <td>16347.70</td>\n",
              "      <td>ОПЛАЧЕНО</td>\n",
              "      <td>Андреев</td>\n",
              "      <td>новая</td>\n",
              "      <td>NaN</td>\n",
              "      <td>оригинал</td>\n",
              "      <td>2021-06-23 00:00:00</td>\n",
              "    </tr>\n",
              "    <tr>\n",
              "      <th>10</th>\n",
              "      <td>28.0</td>\n",
              "      <td>10537.70</td>\n",
              "      <td>ОПЛАЧЕНО</td>\n",
              "      <td>Андреев</td>\n",
              "      <td>текущая</td>\n",
              "      <td>NaN</td>\n",
              "      <td>оригинал</td>\n",
              "      <td>2021-06-16 00:00:00</td>\n",
              "    </tr>\n",
              "    <tr>\n",
              "      <th>11</th>\n",
              "      <td>30.0</td>\n",
              "      <td>3833.70</td>\n",
              "      <td>ОПЛАЧЕНО</td>\n",
              "      <td>Филимонова</td>\n",
              "      <td>текущая</td>\n",
              "      <td>NaN</td>\n",
              "      <td>оригинал</td>\n",
              "      <td>2021-06-21 00:00:00</td>\n",
              "    </tr>\n",
              "    <tr>\n",
              "      <th>12</th>\n",
              "      <td>32.0</td>\n",
              "      <td>7353.90</td>\n",
              "      <td>ОПЛАЧЕНО</td>\n",
              "      <td>Филимонова</td>\n",
              "      <td>текущая</td>\n",
              "      <td>NaN</td>\n",
              "      <td>оригинал</td>\n",
              "      <td>2021-07-09 00:00:00</td>\n",
              "    </tr>\n",
              "    <tr>\n",
              "      <th>13</th>\n",
              "      <td>34.0</td>\n",
              "      <td>3892.52</td>\n",
              "      <td>ОПЛАЧЕНО</td>\n",
              "      <td>Филимонова</td>\n",
              "      <td>текущая</td>\n",
              "      <td>NaN</td>\n",
              "      <td>оригинал</td>\n",
              "      <td>2021-07-09 00:00:00</td>\n",
              "    </tr>\n",
              "    <tr>\n",
              "      <th>14</th>\n",
              "      <td>34.0</td>\n",
              "      <td>3752.63</td>\n",
              "      <td>ОПЛАЧЕНО</td>\n",
              "      <td>Филимонова</td>\n",
              "      <td>текущая</td>\n",
              "      <td>NaN</td>\n",
              "      <td>оригинал</td>\n",
              "      <td>2021-07-09 00:00:00</td>\n",
              "    </tr>\n",
              "    <tr>\n",
              "      <th>15</th>\n",
              "      <td>39.0</td>\n",
              "      <td>10883.70</td>\n",
              "      <td>ОПЛАЧЕНО</td>\n",
              "      <td>Иванов</td>\n",
              "      <td>текущая</td>\n",
              "      <td>NaN</td>\n",
              "      <td>оригинал</td>\n",
              "      <td>2021-06-04 00:00:00</td>\n",
              "    </tr>\n",
              "    <tr>\n",
              "      <th>16</th>\n",
              "      <td>40.0</td>\n",
              "      <td>6493.70</td>\n",
              "      <td>ОПЛАЧЕНО</td>\n",
              "      <td>Иванов</td>\n",
              "      <td>текущая</td>\n",
              "      <td>NaN</td>\n",
              "      <td>оригинал</td>\n",
              "      <td>2021-06-15 00:00:00</td>\n",
              "    </tr>\n",
              "    <tr>\n",
              "      <th>17</th>\n",
              "      <td>42.0</td>\n",
              "      <td>2721.70</td>\n",
              "      <td>ОПЛАЧЕНО</td>\n",
              "      <td>Петрова</td>\n",
              "      <td>текущая</td>\n",
              "      <td>NaN</td>\n",
              "      <td>оригинал</td>\n",
              "      <td>2021-06-23 00:00:00</td>\n",
              "    </tr>\n",
              "    <tr>\n",
              "      <th>18</th>\n",
              "      <td>43.0</td>\n",
              "      <td>1961.20</td>\n",
              "      <td>ОПЛАЧЕНО</td>\n",
              "      <td>Селиванов</td>\n",
              "      <td>текущая</td>\n",
              "      <td>NaN</td>\n",
              "      <td>оригинал</td>\n",
              "      <td>2021-07-27 00:00:00</td>\n",
              "    </tr>\n",
              "    <tr>\n",
              "      <th>19</th>\n",
              "      <td>43.0</td>\n",
              "      <td>1961.20</td>\n",
              "      <td>ОПЛАЧЕНО</td>\n",
              "      <td>Селиванов</td>\n",
              "      <td>текущая</td>\n",
              "      <td>NaN</td>\n",
              "      <td>оригинал</td>\n",
              "      <td>2021-07-27 00:00:00</td>\n",
              "    </tr>\n",
              "  </tbody>\n",
              "</table>\n",
              "</div>\n",
              "    <div class=\"colab-df-buttons\">\n",
              "\n",
              "  <div class=\"colab-df-container\">\n",
              "    <button class=\"colab-df-convert\" onclick=\"convertToInteractive('df-6fd44cf8-751a-4928-8357-92b1f314910b')\"\n",
              "            title=\"Convert this dataframe to an interactive table.\"\n",
              "            style=\"display:none;\">\n",
              "\n",
              "  <svg xmlns=\"http://www.w3.org/2000/svg\" height=\"24px\" viewBox=\"0 -960 960 960\">\n",
              "    <path d=\"M120-120v-720h720v720H120Zm60-500h600v-160H180v160Zm220 220h160v-160H400v160Zm0 220h160v-160H400v160ZM180-400h160v-160H180v160Zm440 0h160v-160H620v160ZM180-180h160v-160H180v160Zm440 0h160v-160H620v160Z\"/>\n",
              "  </svg>\n",
              "    </button>\n",
              "\n",
              "  <style>\n",
              "    .colab-df-container {\n",
              "      display:flex;\n",
              "      gap: 12px;\n",
              "    }\n",
              "\n",
              "    .colab-df-convert {\n",
              "      background-color: #E8F0FE;\n",
              "      border: none;\n",
              "      border-radius: 50%;\n",
              "      cursor: pointer;\n",
              "      display: none;\n",
              "      fill: #1967D2;\n",
              "      height: 32px;\n",
              "      padding: 0 0 0 0;\n",
              "      width: 32px;\n",
              "    }\n",
              "\n",
              "    .colab-df-convert:hover {\n",
              "      background-color: #E2EBFA;\n",
              "      box-shadow: 0px 1px 2px rgba(60, 64, 67, 0.3), 0px 1px 3px 1px rgba(60, 64, 67, 0.15);\n",
              "      fill: #174EA6;\n",
              "    }\n",
              "\n",
              "    .colab-df-buttons div {\n",
              "      margin-bottom: 4px;\n",
              "    }\n",
              "\n",
              "    [theme=dark] .colab-df-convert {\n",
              "      background-color: #3B4455;\n",
              "      fill: #D2E3FC;\n",
              "    }\n",
              "\n",
              "    [theme=dark] .colab-df-convert:hover {\n",
              "      background-color: #434B5C;\n",
              "      box-shadow: 0px 1px 3px 1px rgba(0, 0, 0, 0.15);\n",
              "      filter: drop-shadow(0px 1px 2px rgba(0, 0, 0, 0.3));\n",
              "      fill: #FFFFFF;\n",
              "    }\n",
              "  </style>\n",
              "\n",
              "    <script>\n",
              "      const buttonEl =\n",
              "        document.querySelector('#df-6fd44cf8-751a-4928-8357-92b1f314910b button.colab-df-convert');\n",
              "      buttonEl.style.display =\n",
              "        google.colab.kernel.accessAllowed ? 'block' : 'none';\n",
              "\n",
              "      async function convertToInteractive(key) {\n",
              "        const element = document.querySelector('#df-6fd44cf8-751a-4928-8357-92b1f314910b');\n",
              "        const dataTable =\n",
              "          await google.colab.kernel.invokeFunction('convertToInteractive',\n",
              "                                                    [key], {});\n",
              "        if (!dataTable) return;\n",
              "\n",
              "        const docLinkHtml = 'Like what you see? Visit the ' +\n",
              "          '<a target=\"_blank\" href=https://colab.research.google.com/notebooks/data_table.ipynb>data table notebook</a>'\n",
              "          + ' to learn more about interactive tables.';\n",
              "        element.innerHTML = '';\n",
              "        dataTable['output_type'] = 'display_data';\n",
              "        await google.colab.output.renderOutput(dataTable, element);\n",
              "        const docLink = document.createElement('div');\n",
              "        docLink.innerHTML = docLinkHtml;\n",
              "        element.appendChild(docLink);\n",
              "      }\n",
              "    </script>\n",
              "  </div>\n",
              "\n",
              "\n",
              "<div id=\"df-b3dc20be-afd0-439a-89ff-b2d86c87567d\">\n",
              "  <button class=\"colab-df-quickchart\" onclick=\"quickchart('df-b3dc20be-afd0-439a-89ff-b2d86c87567d')\"\n",
              "            title=\"Suggest charts.\"\n",
              "            style=\"display:none;\">\n",
              "\n",
              "<svg xmlns=\"http://www.w3.org/2000/svg\" height=\"24px\"viewBox=\"0 0 24 24\"\n",
              "     width=\"24px\">\n",
              "    <g>\n",
              "        <path d=\"M19 3H5c-1.1 0-2 .9-2 2v14c0 1.1.9 2 2 2h14c1.1 0 2-.9 2-2V5c0-1.1-.9-2-2-2zM9 17H7v-7h2v7zm4 0h-2V7h2v10zm4 0h-2v-4h2v4z\"/>\n",
              "    </g>\n",
              "</svg>\n",
              "  </button>\n",
              "\n",
              "<style>\n",
              "  .colab-df-quickchart {\n",
              "      --bg-color: #E8F0FE;\n",
              "      --fill-color: #1967D2;\n",
              "      --hover-bg-color: #E2EBFA;\n",
              "      --hover-fill-color: #174EA6;\n",
              "      --disabled-fill-color: #AAA;\n",
              "      --disabled-bg-color: #DDD;\n",
              "  }\n",
              "\n",
              "  [theme=dark] .colab-df-quickchart {\n",
              "      --bg-color: #3B4455;\n",
              "      --fill-color: #D2E3FC;\n",
              "      --hover-bg-color: #434B5C;\n",
              "      --hover-fill-color: #FFFFFF;\n",
              "      --disabled-bg-color: #3B4455;\n",
              "      --disabled-fill-color: #666;\n",
              "  }\n",
              "\n",
              "  .colab-df-quickchart {\n",
              "    background-color: var(--bg-color);\n",
              "    border: none;\n",
              "    border-radius: 50%;\n",
              "    cursor: pointer;\n",
              "    display: none;\n",
              "    fill: var(--fill-color);\n",
              "    height: 32px;\n",
              "    padding: 0;\n",
              "    width: 32px;\n",
              "  }\n",
              "\n",
              "  .colab-df-quickchart:hover {\n",
              "    background-color: var(--hover-bg-color);\n",
              "    box-shadow: 0 1px 2px rgba(60, 64, 67, 0.3), 0 1px 3px 1px rgba(60, 64, 67, 0.15);\n",
              "    fill: var(--button-hover-fill-color);\n",
              "  }\n",
              "\n",
              "  .colab-df-quickchart-complete:disabled,\n",
              "  .colab-df-quickchart-complete:disabled:hover {\n",
              "    background-color: var(--disabled-bg-color);\n",
              "    fill: var(--disabled-fill-color);\n",
              "    box-shadow: none;\n",
              "  }\n",
              "\n",
              "  .colab-df-spinner {\n",
              "    border: 2px solid var(--fill-color);\n",
              "    border-color: transparent;\n",
              "    border-bottom-color: var(--fill-color);\n",
              "    animation:\n",
              "      spin 1s steps(1) infinite;\n",
              "  }\n",
              "\n",
              "  @keyframes spin {\n",
              "    0% {\n",
              "      border-color: transparent;\n",
              "      border-bottom-color: var(--fill-color);\n",
              "      border-left-color: var(--fill-color);\n",
              "    }\n",
              "    20% {\n",
              "      border-color: transparent;\n",
              "      border-left-color: var(--fill-color);\n",
              "      border-top-color: var(--fill-color);\n",
              "    }\n",
              "    30% {\n",
              "      border-color: transparent;\n",
              "      border-left-color: var(--fill-color);\n",
              "      border-top-color: var(--fill-color);\n",
              "      border-right-color: var(--fill-color);\n",
              "    }\n",
              "    40% {\n",
              "      border-color: transparent;\n",
              "      border-right-color: var(--fill-color);\n",
              "      border-top-color: var(--fill-color);\n",
              "    }\n",
              "    60% {\n",
              "      border-color: transparent;\n",
              "      border-right-color: var(--fill-color);\n",
              "    }\n",
              "    80% {\n",
              "      border-color: transparent;\n",
              "      border-right-color: var(--fill-color);\n",
              "      border-bottom-color: var(--fill-color);\n",
              "    }\n",
              "    90% {\n",
              "      border-color: transparent;\n",
              "      border-bottom-color: var(--fill-color);\n",
              "    }\n",
              "  }\n",
              "</style>\n",
              "\n",
              "  <script>\n",
              "    async function quickchart(key) {\n",
              "      const quickchartButtonEl =\n",
              "        document.querySelector('#' + key + ' button');\n",
              "      quickchartButtonEl.disabled = true;  // To prevent multiple clicks.\n",
              "      quickchartButtonEl.classList.add('colab-df-spinner');\n",
              "      try {\n",
              "        const charts = await google.colab.kernel.invokeFunction(\n",
              "            'suggestCharts', [key], {});\n",
              "      } catch (error) {\n",
              "        console.error('Error during call to suggestCharts:', error);\n",
              "      }\n",
              "      quickchartButtonEl.classList.remove('colab-df-spinner');\n",
              "      quickchartButtonEl.classList.add('colab-df-quickchart-complete');\n",
              "    }\n",
              "    (() => {\n",
              "      let quickchartButtonEl =\n",
              "        document.querySelector('#df-b3dc20be-afd0-439a-89ff-b2d86c87567d button');\n",
              "      quickchartButtonEl.style.display =\n",
              "        google.colab.kernel.accessAllowed ? 'block' : 'none';\n",
              "    })();\n",
              "  </script>\n",
              "</div>\n",
              "    </div>\n",
              "  </div>\n"
            ]
          },
          "metadata": {},
          "execution_count": 3
        }
      ]
    },
    {
      "cell_type": "markdown",
      "source": [
        "Так как даты у нас указаны в колонке status, то уберем их от туда и перенесем в отдельный столбец operation_date"
      ],
      "metadata": {
        "id": "C1busJElhEaj"
      }
    },
    {
      "cell_type": "code",
      "source": [
        "df[\"status\"].unique()"
      ],
      "metadata": {
        "colab": {
          "base_uri": "https://localhost:8080/"
        },
        "id": "zfX1MMhgl8Mv",
        "outputId": "7287f3e6-eba5-41f5-d986-deeb912561a0"
      },
      "execution_count": 4,
      "outputs": [
        {
          "output_type": "execute_result",
          "data": {
            "text/plain": [
              "array(['Май 2021', 'ВНУТРЕННИЙ', 'ОПЛАЧЕНО', 'ПРОСРОЧЕНО', 'Июнь 2021',\n",
              "       'Июль 2021', 'Август 2021', 'В РАБОТЕ', 'Сентябрь 2021',\n",
              "       'Октябрь 2021', 'НА ПОДПИСАНИИ'], dtype=object)"
            ]
          },
          "metadata": {},
          "execution_count": 4
        }
      ]
    },
    {
      "cell_type": "code",
      "source": [
        "df.status.value_counts()"
      ],
      "metadata": {
        "colab": {
          "base_uri": "https://localhost:8080/"
        },
        "id": "lsDAw7MZWuGS",
        "outputId": "37f06e8d-9f9a-4ed4-ba37-218d09d96df0"
      },
      "execution_count": 5,
      "outputs": [
        {
          "output_type": "execute_result",
          "data": {
            "text/plain": [
              "ОПЛАЧЕНО         622\n",
              "ПРОСРОЧЕНО        52\n",
              "В РАБОТЕ          44\n",
              "НА ПОДПИСАНИИ      5\n",
              "Май 2021           1\n",
              "ВНУТРЕННИЙ         1\n",
              "Июнь 2021          1\n",
              "Июль 2021          1\n",
              "Август 2021        1\n",
              "Сентябрь 2021      1\n",
              "Октябрь 2021       1\n",
              "Name: status, dtype: int64"
            ]
          },
          "metadata": {},
          "execution_count": 5
        }
      ]
    },
    {
      "cell_type": "markdown",
      "source": [
        "Так как внутренний перевод всего 1, а также он не влияет на распределение выручки и других параметров, то не будем его рассматривать в дальнейшем."
      ],
      "metadata": {
        "id": "Z-NtrIBzYsA_"
      }
    },
    {
      "cell_type": "code",
      "source": [
        "df = df[df[\"status\"] != \"ВНУТРЕННИЙ\"]"
      ],
      "metadata": {
        "id": "PP3RLrzhY8QR"
      },
      "execution_count": 6,
      "outputs": []
    },
    {
      "cell_type": "code",
      "source": [
        "status = ['ОПЛАЧЕНО', 'ПРОСРОЧЕНО', 'В РАБОТЕ', 'НА ПОДПИСАНИИ']"
      ],
      "metadata": {
        "id": "qAX0hsj2h2og"
      },
      "execution_count": 7,
      "outputs": []
    },
    {
      "cell_type": "markdown",
      "source": [
        "Напишем функцию преобразования строки типа \"Май 2021\" в дату"
      ],
      "metadata": {
        "id": "XwkrhhqHri9E"
      }
    },
    {
      "cell_type": "code",
      "source": [
        "def parse_date(date_str):\n",
        "    # Разбиваем строку на месяц и год\n",
        "    month, year = date_str.split()\n",
        "    # Маппинг месяцев на их числовые значения\n",
        "    month_dict = {'Январь': 1, 'Февраль': 2, 'Март': 3, 'Апрель': 4, 'Май': 5, 'Июнь': 6, 'Июль': 7, 'Август': 8, 'Сентябрь': 9, 'Октябрь': 10, 'Ноябрь': 11, 'Декабрь': 12}\n",
        "    month_num = month_dict[month]\n",
        "    # Создаем объект datetime\n",
        "    date = datetime(year=int(year), month=month_num, day=1)\n",
        "    return date"
      ],
      "metadata": {
        "id": "2O_EBJBVrg2i"
      },
      "execution_count": 8,
      "outputs": []
    },
    {
      "cell_type": "code",
      "source": [
        "# Создаем новые колонки для статусов и дат\n",
        "df['new_status'] = ''\n",
        "df['operation_date'] = ''\n",
        "\n",
        "# Заполняем новые колонки\n",
        "current_status = None\n",
        "for i, row in df.iterrows():\n",
        "    if row['status'] not in status:\n",
        "        current_status = row['status']\n",
        "    else:\n",
        "        df.at[i, 'new_status'] = row['status']\n",
        "        df.at[i, 'operation_date'] = current_status\n",
        "\n",
        "# Убираем все пустые колонки, уберем Внутренние сделки, так как  и заменяем колонку new_status на status, также удалим колонку Unnamed:5\n",
        "df = df[df[\"new_status\"] != ''] \\\n",
        "    .drop(['status', 'Unnamed: 5'], axis=1) \\\n",
        "    .rename(columns={'new_status': 'status'})\n",
        "df['parsed_operation_date'] = df['operation_date'].apply(parse_date).dt.strftime('%Y-%m')"
      ],
      "metadata": {
        "id": "F9_Jgm5tjyB2"
      },
      "execution_count": 9,
      "outputs": []
    },
    {
      "cell_type": "markdown",
      "source": [
        "Проверим, что все преобразования были сделаны верно"
      ],
      "metadata": {
        "id": "zo-xs9Hppk4N"
      }
    },
    {
      "cell_type": "code",
      "source": [
        "df.head(140)"
      ],
      "metadata": {
        "colab": {
          "base_uri": "https://localhost:8080/",
          "height": 423
        },
        "id": "gCHRROqJj1VW",
        "outputId": "b26a6eb8-41dc-403f-f979-82b77e525686"
      },
      "execution_count": 10,
      "outputs": [
        {
          "output_type": "execute_result",
          "data": {
            "text/plain": [
              "     client_id       sum        sale new/current  document  \\\n",
              "2         14.0   5452.70     Петрова       новая  оригинал   \n",
              "3         15.0  13991.70      Иванов     текущая  оригинал   \n",
              "4         16.0    719.70      Иванов     текущая  оригинал   \n",
              "5         18.0   4253.70      Иванов     текущая  оригинал   \n",
              "6         20.0   5796.70   Кузнецова     текущая  оригинал   \n",
              "..         ...       ...         ...         ...       ...   \n",
              "138       30.0   3833.70  Филимонова     текущая  оригинал   \n",
              "139       31.0   6523.70  Филимонова       новая  оригинал   \n",
              "140       32.0   7048.15  Филимонова     текущая  оригинал   \n",
              "141       34.0   3720.73  Филимонова     текущая  оригинал   \n",
              "142       36.0   3868.70  Филимонова       новая  оригинал   \n",
              "\n",
              "          receiving_date    status operation_date parsed_operation_date  \n",
              "2    2021-07-26 00:00:00  ОПЛАЧЕНО       Май 2021               2021-05  \n",
              "3    2021-06-08 00:00:00  ОПЛАЧЕНО       Май 2021               2021-05  \n",
              "4    2021-06-08 00:00:00  ОПЛАЧЕНО       Май 2021               2021-05  \n",
              "5    2021-07-07 00:00:00  ОПЛАЧЕНО       Май 2021               2021-05  \n",
              "6    2021-07-15 00:00:00  ОПЛАЧЕНО       Май 2021               2021-05  \n",
              "..                   ...       ...            ...                   ...  \n",
              "138  2021-09-27 00:00:00  ОПЛАЧЕНО      Июнь 2021               2021-06  \n",
              "139  2021-10-12 00:00:00  ОПЛАЧЕНО      Июнь 2021               2021-06  \n",
              "140  2021-08-13 00:00:00  ОПЛАЧЕНО      Июнь 2021               2021-06  \n",
              "141  2021-08-13 00:00:00  ОПЛАЧЕНО      Июнь 2021               2021-06  \n",
              "142  2021-07-08 00:00:00  ОПЛАЧЕНО      Июнь 2021               2021-06  \n",
              "\n",
              "[140 rows x 9 columns]"
            ],
            "text/html": [
              "\n",
              "  <div id=\"df-f6035f1d-9a70-4dd6-9614-cfabfc13a259\" class=\"colab-df-container\">\n",
              "    <div>\n",
              "<style scoped>\n",
              "    .dataframe tbody tr th:only-of-type {\n",
              "        vertical-align: middle;\n",
              "    }\n",
              "\n",
              "    .dataframe tbody tr th {\n",
              "        vertical-align: top;\n",
              "    }\n",
              "\n",
              "    .dataframe thead th {\n",
              "        text-align: right;\n",
              "    }\n",
              "</style>\n",
              "<table border=\"1\" class=\"dataframe\">\n",
              "  <thead>\n",
              "    <tr style=\"text-align: right;\">\n",
              "      <th></th>\n",
              "      <th>client_id</th>\n",
              "      <th>sum</th>\n",
              "      <th>sale</th>\n",
              "      <th>new/current</th>\n",
              "      <th>document</th>\n",
              "      <th>receiving_date</th>\n",
              "      <th>status</th>\n",
              "      <th>operation_date</th>\n",
              "      <th>parsed_operation_date</th>\n",
              "    </tr>\n",
              "  </thead>\n",
              "  <tbody>\n",
              "    <tr>\n",
              "      <th>2</th>\n",
              "      <td>14.0</td>\n",
              "      <td>5452.70</td>\n",
              "      <td>Петрова</td>\n",
              "      <td>новая</td>\n",
              "      <td>оригинал</td>\n",
              "      <td>2021-07-26 00:00:00</td>\n",
              "      <td>ОПЛАЧЕНО</td>\n",
              "      <td>Май 2021</td>\n",
              "      <td>2021-05</td>\n",
              "    </tr>\n",
              "    <tr>\n",
              "      <th>3</th>\n",
              "      <td>15.0</td>\n",
              "      <td>13991.70</td>\n",
              "      <td>Иванов</td>\n",
              "      <td>текущая</td>\n",
              "      <td>оригинал</td>\n",
              "      <td>2021-06-08 00:00:00</td>\n",
              "      <td>ОПЛАЧЕНО</td>\n",
              "      <td>Май 2021</td>\n",
              "      <td>2021-05</td>\n",
              "    </tr>\n",
              "    <tr>\n",
              "      <th>4</th>\n",
              "      <td>16.0</td>\n",
              "      <td>719.70</td>\n",
              "      <td>Иванов</td>\n",
              "      <td>текущая</td>\n",
              "      <td>оригинал</td>\n",
              "      <td>2021-06-08 00:00:00</td>\n",
              "      <td>ОПЛАЧЕНО</td>\n",
              "      <td>Май 2021</td>\n",
              "      <td>2021-05</td>\n",
              "    </tr>\n",
              "    <tr>\n",
              "      <th>5</th>\n",
              "      <td>18.0</td>\n",
              "      <td>4253.70</td>\n",
              "      <td>Иванов</td>\n",
              "      <td>текущая</td>\n",
              "      <td>оригинал</td>\n",
              "      <td>2021-07-07 00:00:00</td>\n",
              "      <td>ОПЛАЧЕНО</td>\n",
              "      <td>Май 2021</td>\n",
              "      <td>2021-05</td>\n",
              "    </tr>\n",
              "    <tr>\n",
              "      <th>6</th>\n",
              "      <td>20.0</td>\n",
              "      <td>5796.70</td>\n",
              "      <td>Кузнецова</td>\n",
              "      <td>текущая</td>\n",
              "      <td>оригинал</td>\n",
              "      <td>2021-07-15 00:00:00</td>\n",
              "      <td>ОПЛАЧЕНО</td>\n",
              "      <td>Май 2021</td>\n",
              "      <td>2021-05</td>\n",
              "    </tr>\n",
              "    <tr>\n",
              "      <th>...</th>\n",
              "      <td>...</td>\n",
              "      <td>...</td>\n",
              "      <td>...</td>\n",
              "      <td>...</td>\n",
              "      <td>...</td>\n",
              "      <td>...</td>\n",
              "      <td>...</td>\n",
              "      <td>...</td>\n",
              "      <td>...</td>\n",
              "    </tr>\n",
              "    <tr>\n",
              "      <th>138</th>\n",
              "      <td>30.0</td>\n",
              "      <td>3833.70</td>\n",
              "      <td>Филимонова</td>\n",
              "      <td>текущая</td>\n",
              "      <td>оригинал</td>\n",
              "      <td>2021-09-27 00:00:00</td>\n",
              "      <td>ОПЛАЧЕНО</td>\n",
              "      <td>Июнь 2021</td>\n",
              "      <td>2021-06</td>\n",
              "    </tr>\n",
              "    <tr>\n",
              "      <th>139</th>\n",
              "      <td>31.0</td>\n",
              "      <td>6523.70</td>\n",
              "      <td>Филимонова</td>\n",
              "      <td>новая</td>\n",
              "      <td>оригинал</td>\n",
              "      <td>2021-10-12 00:00:00</td>\n",
              "      <td>ОПЛАЧЕНО</td>\n",
              "      <td>Июнь 2021</td>\n",
              "      <td>2021-06</td>\n",
              "    </tr>\n",
              "    <tr>\n",
              "      <th>140</th>\n",
              "      <td>32.0</td>\n",
              "      <td>7048.15</td>\n",
              "      <td>Филимонова</td>\n",
              "      <td>текущая</td>\n",
              "      <td>оригинал</td>\n",
              "      <td>2021-08-13 00:00:00</td>\n",
              "      <td>ОПЛАЧЕНО</td>\n",
              "      <td>Июнь 2021</td>\n",
              "      <td>2021-06</td>\n",
              "    </tr>\n",
              "    <tr>\n",
              "      <th>141</th>\n",
              "      <td>34.0</td>\n",
              "      <td>3720.73</td>\n",
              "      <td>Филимонова</td>\n",
              "      <td>текущая</td>\n",
              "      <td>оригинал</td>\n",
              "      <td>2021-08-13 00:00:00</td>\n",
              "      <td>ОПЛАЧЕНО</td>\n",
              "      <td>Июнь 2021</td>\n",
              "      <td>2021-06</td>\n",
              "    </tr>\n",
              "    <tr>\n",
              "      <th>142</th>\n",
              "      <td>36.0</td>\n",
              "      <td>3868.70</td>\n",
              "      <td>Филимонова</td>\n",
              "      <td>новая</td>\n",
              "      <td>оригинал</td>\n",
              "      <td>2021-07-08 00:00:00</td>\n",
              "      <td>ОПЛАЧЕНО</td>\n",
              "      <td>Июнь 2021</td>\n",
              "      <td>2021-06</td>\n",
              "    </tr>\n",
              "  </tbody>\n",
              "</table>\n",
              "<p>140 rows × 9 columns</p>\n",
              "</div>\n",
              "    <div class=\"colab-df-buttons\">\n",
              "\n",
              "  <div class=\"colab-df-container\">\n",
              "    <button class=\"colab-df-convert\" onclick=\"convertToInteractive('df-f6035f1d-9a70-4dd6-9614-cfabfc13a259')\"\n",
              "            title=\"Convert this dataframe to an interactive table.\"\n",
              "            style=\"display:none;\">\n",
              "\n",
              "  <svg xmlns=\"http://www.w3.org/2000/svg\" height=\"24px\" viewBox=\"0 -960 960 960\">\n",
              "    <path d=\"M120-120v-720h720v720H120Zm60-500h600v-160H180v160Zm220 220h160v-160H400v160Zm0 220h160v-160H400v160ZM180-400h160v-160H180v160Zm440 0h160v-160H620v160ZM180-180h160v-160H180v160Zm440 0h160v-160H620v160Z\"/>\n",
              "  </svg>\n",
              "    </button>\n",
              "\n",
              "  <style>\n",
              "    .colab-df-container {\n",
              "      display:flex;\n",
              "      gap: 12px;\n",
              "    }\n",
              "\n",
              "    .colab-df-convert {\n",
              "      background-color: #E8F0FE;\n",
              "      border: none;\n",
              "      border-radius: 50%;\n",
              "      cursor: pointer;\n",
              "      display: none;\n",
              "      fill: #1967D2;\n",
              "      height: 32px;\n",
              "      padding: 0 0 0 0;\n",
              "      width: 32px;\n",
              "    }\n",
              "\n",
              "    .colab-df-convert:hover {\n",
              "      background-color: #E2EBFA;\n",
              "      box-shadow: 0px 1px 2px rgba(60, 64, 67, 0.3), 0px 1px 3px 1px rgba(60, 64, 67, 0.15);\n",
              "      fill: #174EA6;\n",
              "    }\n",
              "\n",
              "    .colab-df-buttons div {\n",
              "      margin-bottom: 4px;\n",
              "    }\n",
              "\n",
              "    [theme=dark] .colab-df-convert {\n",
              "      background-color: #3B4455;\n",
              "      fill: #D2E3FC;\n",
              "    }\n",
              "\n",
              "    [theme=dark] .colab-df-convert:hover {\n",
              "      background-color: #434B5C;\n",
              "      box-shadow: 0px 1px 3px 1px rgba(0, 0, 0, 0.15);\n",
              "      filter: drop-shadow(0px 1px 2px rgba(0, 0, 0, 0.3));\n",
              "      fill: #FFFFFF;\n",
              "    }\n",
              "  </style>\n",
              "\n",
              "    <script>\n",
              "      const buttonEl =\n",
              "        document.querySelector('#df-f6035f1d-9a70-4dd6-9614-cfabfc13a259 button.colab-df-convert');\n",
              "      buttonEl.style.display =\n",
              "        google.colab.kernel.accessAllowed ? 'block' : 'none';\n",
              "\n",
              "      async function convertToInteractive(key) {\n",
              "        const element = document.querySelector('#df-f6035f1d-9a70-4dd6-9614-cfabfc13a259');\n",
              "        const dataTable =\n",
              "          await google.colab.kernel.invokeFunction('convertToInteractive',\n",
              "                                                    [key], {});\n",
              "        if (!dataTable) return;\n",
              "\n",
              "        const docLinkHtml = 'Like what you see? Visit the ' +\n",
              "          '<a target=\"_blank\" href=https://colab.research.google.com/notebooks/data_table.ipynb>data table notebook</a>'\n",
              "          + ' to learn more about interactive tables.';\n",
              "        element.innerHTML = '';\n",
              "        dataTable['output_type'] = 'display_data';\n",
              "        await google.colab.output.renderOutput(dataTable, element);\n",
              "        const docLink = document.createElement('div');\n",
              "        docLink.innerHTML = docLinkHtml;\n",
              "        element.appendChild(docLink);\n",
              "      }\n",
              "    </script>\n",
              "  </div>\n",
              "\n",
              "\n",
              "<div id=\"df-86663c10-1ca5-4fbf-9531-051a1fdf17ad\">\n",
              "  <button class=\"colab-df-quickchart\" onclick=\"quickchart('df-86663c10-1ca5-4fbf-9531-051a1fdf17ad')\"\n",
              "            title=\"Suggest charts.\"\n",
              "            style=\"display:none;\">\n",
              "\n",
              "<svg xmlns=\"http://www.w3.org/2000/svg\" height=\"24px\"viewBox=\"0 0 24 24\"\n",
              "     width=\"24px\">\n",
              "    <g>\n",
              "        <path d=\"M19 3H5c-1.1 0-2 .9-2 2v14c0 1.1.9 2 2 2h14c1.1 0 2-.9 2-2V5c0-1.1-.9-2-2-2zM9 17H7v-7h2v7zm4 0h-2V7h2v10zm4 0h-2v-4h2v4z\"/>\n",
              "    </g>\n",
              "</svg>\n",
              "  </button>\n",
              "\n",
              "<style>\n",
              "  .colab-df-quickchart {\n",
              "      --bg-color: #E8F0FE;\n",
              "      --fill-color: #1967D2;\n",
              "      --hover-bg-color: #E2EBFA;\n",
              "      --hover-fill-color: #174EA6;\n",
              "      --disabled-fill-color: #AAA;\n",
              "      --disabled-bg-color: #DDD;\n",
              "  }\n",
              "\n",
              "  [theme=dark] .colab-df-quickchart {\n",
              "      --bg-color: #3B4455;\n",
              "      --fill-color: #D2E3FC;\n",
              "      --hover-bg-color: #434B5C;\n",
              "      --hover-fill-color: #FFFFFF;\n",
              "      --disabled-bg-color: #3B4455;\n",
              "      --disabled-fill-color: #666;\n",
              "  }\n",
              "\n",
              "  .colab-df-quickchart {\n",
              "    background-color: var(--bg-color);\n",
              "    border: none;\n",
              "    border-radius: 50%;\n",
              "    cursor: pointer;\n",
              "    display: none;\n",
              "    fill: var(--fill-color);\n",
              "    height: 32px;\n",
              "    padding: 0;\n",
              "    width: 32px;\n",
              "  }\n",
              "\n",
              "  .colab-df-quickchart:hover {\n",
              "    background-color: var(--hover-bg-color);\n",
              "    box-shadow: 0 1px 2px rgba(60, 64, 67, 0.3), 0 1px 3px 1px rgba(60, 64, 67, 0.15);\n",
              "    fill: var(--button-hover-fill-color);\n",
              "  }\n",
              "\n",
              "  .colab-df-quickchart-complete:disabled,\n",
              "  .colab-df-quickchart-complete:disabled:hover {\n",
              "    background-color: var(--disabled-bg-color);\n",
              "    fill: var(--disabled-fill-color);\n",
              "    box-shadow: none;\n",
              "  }\n",
              "\n",
              "  .colab-df-spinner {\n",
              "    border: 2px solid var(--fill-color);\n",
              "    border-color: transparent;\n",
              "    border-bottom-color: var(--fill-color);\n",
              "    animation:\n",
              "      spin 1s steps(1) infinite;\n",
              "  }\n",
              "\n",
              "  @keyframes spin {\n",
              "    0% {\n",
              "      border-color: transparent;\n",
              "      border-bottom-color: var(--fill-color);\n",
              "      border-left-color: var(--fill-color);\n",
              "    }\n",
              "    20% {\n",
              "      border-color: transparent;\n",
              "      border-left-color: var(--fill-color);\n",
              "      border-top-color: var(--fill-color);\n",
              "    }\n",
              "    30% {\n",
              "      border-color: transparent;\n",
              "      border-left-color: var(--fill-color);\n",
              "      border-top-color: var(--fill-color);\n",
              "      border-right-color: var(--fill-color);\n",
              "    }\n",
              "    40% {\n",
              "      border-color: transparent;\n",
              "      border-right-color: var(--fill-color);\n",
              "      border-top-color: var(--fill-color);\n",
              "    }\n",
              "    60% {\n",
              "      border-color: transparent;\n",
              "      border-right-color: var(--fill-color);\n",
              "    }\n",
              "    80% {\n",
              "      border-color: transparent;\n",
              "      border-right-color: var(--fill-color);\n",
              "      border-bottom-color: var(--fill-color);\n",
              "    }\n",
              "    90% {\n",
              "      border-color: transparent;\n",
              "      border-bottom-color: var(--fill-color);\n",
              "    }\n",
              "  }\n",
              "</style>\n",
              "\n",
              "  <script>\n",
              "    async function quickchart(key) {\n",
              "      const quickchartButtonEl =\n",
              "        document.querySelector('#' + key + ' button');\n",
              "      quickchartButtonEl.disabled = true;  // To prevent multiple clicks.\n",
              "      quickchartButtonEl.classList.add('colab-df-spinner');\n",
              "      try {\n",
              "        const charts = await google.colab.kernel.invokeFunction(\n",
              "            'suggestCharts', [key], {});\n",
              "      } catch (error) {\n",
              "        console.error('Error during call to suggestCharts:', error);\n",
              "      }\n",
              "      quickchartButtonEl.classList.remove('colab-df-spinner');\n",
              "      quickchartButtonEl.classList.add('colab-df-quickchart-complete');\n",
              "    }\n",
              "    (() => {\n",
              "      let quickchartButtonEl =\n",
              "        document.querySelector('#df-86663c10-1ca5-4fbf-9531-051a1fdf17ad button');\n",
              "      quickchartButtonEl.style.display =\n",
              "        google.colab.kernel.accessAllowed ? 'block' : 'none';\n",
              "    })();\n",
              "  </script>\n",
              "</div>\n",
              "    </div>\n",
              "  </div>\n"
            ]
          },
          "metadata": {},
          "execution_count": 10
        }
      ]
    },
    {
      "cell_type": "code",
      "source": [
        "df.status.unique()"
      ],
      "metadata": {
        "colab": {
          "base_uri": "https://localhost:8080/"
        },
        "id": "S2y929b-m5m-",
        "outputId": "155937a0-d4ab-4bf8-f772-c41b4e2a6774"
      },
      "execution_count": 11,
      "outputs": [
        {
          "output_type": "execute_result",
          "data": {
            "text/plain": [
              "array(['ОПЛАЧЕНО', 'ПРОСРОЧЕНО', 'В РАБОТЕ', 'НА ПОДПИСАНИИ'],\n",
              "      dtype=object)"
            ]
          },
          "metadata": {},
          "execution_count": 11
        }
      ]
    },
    {
      "cell_type": "code",
      "source": [
        "df.operation_date.unique()"
      ],
      "metadata": {
        "colab": {
          "base_uri": "https://localhost:8080/"
        },
        "id": "R293mWsgoZT_",
        "outputId": "36086168-d200-44c1-b5c6-083f60e117e9"
      },
      "execution_count": 12,
      "outputs": [
        {
          "output_type": "execute_result",
          "data": {
            "text/plain": [
              "array(['Май 2021', 'Июнь 2021', 'Июль 2021', 'Август 2021',\n",
              "       'Сентябрь 2021', 'Октябрь 2021'], dtype=object)"
            ]
          },
          "metadata": {},
          "execution_count": 12
        }
      ]
    },
    {
      "cell_type": "markdown",
      "source": [
        "Предобработка данных была выполнена теперь можно выполнять искомое задание."
      ],
      "metadata": {
        "id": "RwG8KK9ppq6I"
      }
    },
    {
      "cell_type": "markdown",
      "source": [
        "## Вопросы"
      ],
      "metadata": {
        "id": "F-olbK8zVZKw"
      }
    },
    {
      "cell_type": "markdown",
      "source": [
        "**1) Вычислите общую выручку за июль 2021 по тем сделкам, приход денежных\n",
        "средств которых не просрочен.**"
      ],
      "metadata": {
        "id": "Q_x647SAtg71"
      }
    },
    {
      "cell_type": "code",
      "source": [
        "df[df['status'] != 'ПРОСРОЧЕНО']\\\n",
        "  .groupby('parsed_operation_date')\\\n",
        "   .get_group('2021-07')['sum']\\\n",
        "  .sum()"
      ],
      "metadata": {
        "colab": {
          "base_uri": "https://localhost:8080/"
        },
        "id": "Z4RZhBrNtgom",
        "outputId": "c2b0e7fa-d569-4f79-ee7b-b60cddb3a9e6"
      },
      "execution_count": 13,
      "outputs": [
        {
          "output_type": "execute_result",
          "data": {
            "text/plain": [
              "859896.4699999997"
            ]
          },
          "metadata": {},
          "execution_count": 13
        }
      ]
    },
    {
      "cell_type": "markdown",
      "source": [
        "**2) Как изменялась выручка компании за рассматриваемый период?\n",
        "Проиллюстрируйте графиком.**"
      ],
      "metadata": {
        "id": "fuu4Db3Ux7X2"
      }
    },
    {
      "cell_type": "code",
      "source": [
        "fig, ax = plt.subplots(figsize=(10, 8))\n",
        "revenue = df.groupby('parsed_operation_date')['sum'].sum().reset_index()\n",
        "x = revenue[\"parsed_operation_date\"]\n",
        "y = revenue[\"sum\"]\n",
        "ax.bar(x, y, color='skyblue', label='Выручка', width=0.5)\n",
        "\n",
        "ax.plot(x, y, color='red', linestyle='--', label='Верхние значения')\n",
        "\n",
        "ax.set_title('График выручки за рассматриваемый период')\n",
        "ax.set_xlabel('Дата операции')\n",
        "ax.set_ylabel('Выручка')\n",
        "\n",
        "ax.legend()\n",
        "\n",
        "ax.grid(True, linestyle='--', alpha=0.6)\n",
        "\n",
        "plt.xticks(rotation=45)\n",
        "\n",
        "for i, v in enumerate(y):\n",
        "    ax.text(x[i], v + 50, f'{int(v)}', ha='center', va='bottom', color='black', fontsize=9)\n",
        "\n",
        "\n",
        "plt.tight_layout()\n",
        "\n",
        "plt.show()\n"
      ],
      "metadata": {
        "colab": {
          "base_uri": "https://localhost:8080/",
          "height": 807
        },
        "id": "W_eI_C2TxeDG",
        "outputId": "6f186382-9e59-4364-ccfe-5c0d34a551b2"
      },
      "execution_count": 14,
      "outputs": [
        {
          "output_type": "display_data",
          "data": {
            "text/plain": [
              "<Figure size 1000x800 with 1 Axes>"
            ],
            "image/png": "[encoded data removed]"
          },
          "metadata": {}
        }
      ]
    },
    {
      "cell_type": "markdown",
      "source": [
        "**3) Кто из менеджеров привлек для компании больше всего денежных средств в сентябре 2021?**\n",
        "\n"
      ],
      "metadata": {
        "id": "4005khyIGLvq"
      }
    },
    {
      "cell_type": "markdown",
      "source": [
        "Для выполнения данного задания отберем значения parsed_operation_date только 2021-09, сгруппируем по sale, просуммируем и выведем имя менеджера и значение"
      ],
      "metadata": {
        "id": "rBUKkDlDGdri"
      }
    },
    {
      "cell_type": "code",
      "source": [
        "revenue_managers = df[df[\"parsed_operation_date\"] == \"2021-09\"]\\\n",
        "                .groupby('sale')['sum']\\\n",
        "                .sum()\n",
        "print(f\"Best manager is {revenue_managers.idxmax()} with sum: {revenue_managers.max()}\")"
      ],
      "metadata": {
        "colab": {
          "base_uri": "https://localhost:8080/"
        },
        "id": "6at7t6ofHUGO",
        "outputId": "9451bdec-4949-4668-afa9-5b99801926fd"
      },
      "execution_count": 15,
      "outputs": [
        {
          "output_type": "stream",
          "name": "stdout",
          "text": [
            "Best manager is Смирнов with sum: 221525.7\n"
          ]
        }
      ]
    },
    {
      "cell_type": "markdown",
      "source": [
        "**4) Какой тип сделок (новая/текущая) был преобладающим в октябре 2021?**"
      ],
      "metadata": {
        "id": "t8Bru1ySJ4Qy"
      }
    },
    {
      "cell_type": "markdown",
      "source": [
        "Для выполнения данного задания отберем значения в октябре 2021, сгруппируем по типу сделок и выведем название и количество преобладающих.\n",
        "\n"
      ],
      "metadata": {
        "id": "8xfNrGzXJ936"
      }
    },
    {
      "cell_type": "code",
      "source": [
        "type_deal = df[df['parsed_operation_date'] == \"2021-10\"]\\\n",
        "              .groupby(\"new/current\")['client_id']\\\n",
        "              .count()\n",
        "print(f'The prevailing type of deals is \"{type_deal.idxmax()}\" with count {type_deal.max()}')"
      ],
      "metadata": {
        "colab": {
          "base_uri": "https://localhost:8080/"
        },
        "id": "g7-UDcCmK_kw",
        "outputId": "de4e7c57-4a47-4d60-daba-9b6195efc374"
      },
      "execution_count": 16,
      "outputs": [
        {
          "output_type": "stream",
          "name": "stdout",
          "text": [
            "The prevailing type of deals is \"текущая\" with count 99\n"
          ]
        }
      ]
    },
    {
      "cell_type": "markdown",
      "source": [
        "**5) Сколько оригиналов договора по майским сделкам было получено в июне 2021?**"
      ],
      "metadata": {
        "id": "CMHXbkOAMJrD"
      }
    },
    {
      "cell_type": "markdown",
      "source": [
        "Для выполнения данного задания отберем значения в июне 2021, сгруппируем по receiving_date и посчитаем количество document."
      ],
      "metadata": {
        "id": "cSvnR_KOMQD8"
      }
    },
    {
      "cell_type": "code",
      "source": [
        "df['receiving_date'] = pd.to_datetime(df['receiving_date'])"
      ],
      "metadata": {
        "id": "zfOkbLCilWa5"
      },
      "execution_count": 17,
      "outputs": []
    },
    {
      "cell_type": "code",
      "source": [
        "df_receiving_date = df.dropna(subset=['receiving_date']).copy()\n",
        "df_receiving_date.loc[:, 'month_receiving_date'] = df_receiving_date['receiving_date'].apply(lambda x: x.month)"
      ],
      "metadata": {
        "id": "LR2yp4mPOTfE"
      },
      "execution_count": 18,
      "outputs": []
    },
    {
      "cell_type": "code",
      "source": [
        "count_month_receiving_date = df_receiving_date[df_receiving_date['parsed_operation_date'] == '2021-06']\\\n",
        "                                            .groupby('month_receiving_date')['document']\\\n",
        "                                            .count()\\\n",
        "                                            .reset_index()\n",
        "print(f'Count of the originals of the agreement on the May transactions were received in June 2021 is {count_month_receiving_date.query(\"month_receiving_date == 5\")[\"document\"].shape[0]}')"
      ],
      "metadata": {
        "colab": {
          "base_uri": "https://localhost:8080/"
        },
        "id": "A794TvOnSzUo",
        "outputId": "61acbc03-ecfa-443c-a215-aec3b3f25579"
      },
      "execution_count": 19,
      "outputs": [
        {
          "output_type": "stream",
          "name": "stdout",
          "text": [
            "Count of the originals of the agreement on the May transactions were received in June 2021 is 1\n"
          ]
        }
      ]
    },
    {
      "cell_type": "markdown",
      "source": [
        "# Задание ⌛\n"
      ],
      "metadata": {
        "id": "F9a1N73yVVED"
      }
    },
    {
      "cell_type": "markdown",
      "source": [
        "**За каждую заключенную сделку менеджер получает бонус, который рассчитывается следующим образом.**\n",
        "\n",
        "**1) За новые сделки менеджер получает 7 % от суммы, при условии, что статус оплаты «ОПЛАЧЕНО», а также имеется оригинал подписанного договора с клиентом (в рассматриваемом месяце).**\n",
        "\n",
        "**2) За текущие сделки менеджер получает 5 % от суммы, если она больше 10 тыс., и 3 % от суммы, если меньше. При этом статус оплаты может быть любым, кроме «ПРОСРОЧЕНО», а также необходимо наличие оригинала подписанного договора с клиентом (в рассматриваемом месяце).**\n",
        "\n",
        "**Бонусы по сделкам, оригиналы для которых приходят позже рассматриваемого месяца, считаются остатком на следующий период, который выплачивается по мере прихода оригиналов. Вычислите остаток каждого из менеджеров на 01.07.2021.**"
      ],
      "metadata": {
        "id": "OEvwnnAOIDOH"
      }
    },
    {
      "cell_type": "markdown",
      "source": [
        "Создадим колонку 'bonus_balance', в которой будет расчитан остаток на следующий период, с помощью функции calculate_bonus_balance."
      ],
      "metadata": {
        "id": "jkYQQbc9V1S9"
      }
    },
    {
      "cell_type": "code",
      "source": [
        "def calculate_bonus_balance(row):\n",
        "    if row['new/current'] == 'новая':\n",
        "        conditions_new = [\n",
        "            row['status'] == 'ОПЛАЧЕНО',\n",
        "            row['document'] == 'оригинал',\n",
        "            not pd.isna(row['receiving_date_year_month']) and row['receiving_date_year_month'] > row['parsed_operation_date']\n",
        "        ]\n",
        "        if all(conditions_new):\n",
        "            return row['sum'] * 0.07\n",
        "    else:\n",
        "        conditions_now = [\n",
        "            row['status'] != 'ПРОСРОЧЕНО',\n",
        "            row['document'] == 'оригинал',\n",
        "            not pd.isna(row['receiving_date_year_month']) and row['receiving_date_year_month'] > row['parsed_operation_date']\n",
        "        ]\n",
        "        if all(conditions_now):\n",
        "            return row['sum'] * (0.05 if row['sum'] > 10000 else 0.03)\n",
        "    return 0"
      ],
      "metadata": {
        "id": "DqDh2o-4cg7U"
      },
      "execution_count": 20,
      "outputs": []
    },
    {
      "cell_type": "code",
      "source": [
        "df['receiving_date_year_month'] = df['receiving_date'].dt.strftime('%Y-%m')"
      ],
      "metadata": {
        "id": "dH3rr3Gqlj9t"
      },
      "execution_count": 21,
      "outputs": []
    },
    {
      "cell_type": "code",
      "source": [
        "df['parsed_operation_date'].dtype"
      ],
      "metadata": {
        "colab": {
          "base_uri": "https://localhost:8080/"
        },
        "id": "BcGfhS2-2Mjz",
        "outputId": "9b760ebb-96f8-4f4f-e844-0384b68798ef"
      },
      "execution_count": 22,
      "outputs": [
        {
          "output_type": "execute_result",
          "data": {
            "text/plain": [
              "dtype('O')"
            ]
          },
          "metadata": {},
          "execution_count": 22
        }
      ]
    },
    {
      "cell_type": "code",
      "source": [
        "df['bonus_balance'] = df.apply(calculate_bonus_balance, axis=1)"
      ],
      "metadata": {
        "id": "EidA7U_QqGXN"
      },
      "execution_count": 23,
      "outputs": []
    },
    {
      "cell_type": "markdown",
      "source": [
        "Так как остаток будет приходить по мере прихода оригиналов, то сгруппируем по менеджерам и сложим остатки, отфильтровав по receiving_date до 01.07.2021."
      ],
      "metadata": {
        "id": "os_Doz_jIZJU"
      }
    },
    {
      "cell_type": "code",
      "source": [
        "df[df['receiving_date_year_month'] < '2021-07'].groupby('sale')['bonus_balance'].sum()"
      ],
      "metadata": {
        "colab": {
          "base_uri": "https://localhost:8080/"
        },
        "id": "FqQNT2cgqHqB",
        "outputId": "a4f0feb9-9411-4d06-ed8a-a3c1e5aa5572"
      },
      "execution_count": 24,
      "outputs": [
        {
          "output_type": "execute_result",
          "data": {
            "text/plain": [
              "sale\n",
              "Андреев       2962.1717\n",
              "Васильев       339.2310\n",
              "Иванов        2503.8390\n",
              "Кузнецова     2604.6716\n",
              "Петрова       7028.8020\n",
              "Селиванов      353.3220\n",
              "Смирнов       4078.7240\n",
              "Филимонова     306.0720\n",
              "Name: bonus_balance, dtype: float64"
            ]
          },
          "metadata": {},
          "execution_count": 24
        }
      ]
    }
  ]
}